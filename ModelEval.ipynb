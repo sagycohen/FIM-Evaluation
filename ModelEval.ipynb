{
 "cells": [
  {
   "cell_type": "markdown",
   "metadata": {},
   "source": [
    "# Flood Inundation Map accuracy Evaluation\n",
    "## Created by: Sagy Cohen, University of Alabama; sagy.cohen@ua.edu\n",
    "## Setting input data\n",
    "### Input Layers:\n",
    "#### Banchmark layer class: [0,2] \n",
    "#### Model Layer class: [1,2]"
   ]
  },
  {
   "cell_type": "code",
   "execution_count": 19,
   "metadata": {},
   "outputs": [],
   "source": [
    "import numpy as np\n",
    "arcpy.env.addOutputsToMap = False\n",
    "arcpy.env.overwriteOutput = True\n",
    "\n",
    "#Workspace (preferably a Geodatabase what include all the input layers):\n",
    "ws = arcpy.env.workspace = r'C:\\ModelEvalWorkshop\\ModelEvalWorkshop_Workspace_1.gdb'\n",
    "\n",
    "#Benchmark (remote sensing) FIM layer:\n",
    "RSFIM = arcpy.Raster('FinalFIM_RSFlood1014EvalLayer_PWBremoved')\n",
    "\n",
    "#Predicted (model) FIM layer:\n",
    "#modelFIM = arcpy.Raster('HAND_1014') \n",
    "#modelFIM = arcpy.Raster('AutoRoute_1014')\n",
    "modelFIM = arcpy.Raster('HECRAS_1014') "
   ]
  },
  {
   "cell_type": "markdown",
   "metadata": {},
   "source": [
    "### Calculating the comparison raster"
   ]
  },
  {
   "cell_type": "code",
   "execution_count": 20,
   "metadata": {},
   "outputs": [
    {
     "name": "stdout",
     "output_type": "stream",
     "text": [
      "HECRAS_1014\n"
     ]
    }
   ],
   "source": [
    "#Map Algebra + of the model [1,2] and benchmark [0,2] rasters\n",
    "#Values in the resulting raster indicate:\n",
    "# 1 = True Negative (TN)\n",
    "# 2 = False Positive (FP)\n",
    "# 3 = False Negative (FN)\n",
    "# 4 = True Positive (TP)\n",
    "\n",
    "plusRas = RSFIM + modelFIM\n",
    "print(modelFIM.name)\n",
    "plusRas.save(modelFIM.name+ '_plus')"
   ]
  },
  {
   "cell_type": "code",
   "execution_count": 21,
   "metadata": {},
   "outputs": [
    {
     "name": "stdout",
     "output_type": "stream",
     "text": [
      "[[1, 2305380], [2, 134820], [3, 89216], [4, 192685], [15, 749991]]\n",
      "2305380 134820 89216 192685\n"
     ]
    }
   ],
   "source": [
    "#Exporting raster to Numpy Array for extracting the number of pixels in each category (TN, FP, FN, TP)\n",
    "arr = arcpy.RasterToNumPyArray(plusRas)\n",
    "valList = np.array(np.unique(arr, return_counts=True)).T.tolist()\n",
    "print(valList)\n",
    "TN,FP,FN,TP = 0,0,0,0\n",
    "index_i = 0\n",
    "for i in valList:\n",
    "    if i[0] == 1: TN = valList[index_i][1]\n",
    "    if i[0] == 2: FP = valList[index_i][1]\n",
    "    if i[0] == 3: FN = valList[index_i][1]\n",
    "    if i[0] == 4: TP = valList[index_i][1]\n",
    "    index_i+=1\n",
    "print(TN,FP,FN,TP)"
   ]
  },
  {
   "cell_type": "markdown",
   "metadata": {},
   "source": [
    "### Calculating the evaluation metrics"
   ]
  },
  {
   "cell_type": "code",
   "execution_count": 22,
   "metadata": {},
   "outputs": [
    {
     "name": "stdout",
     "output_type": "stream",
     "text": [
      "CSI,0.4623837051648465\n",
      "TPR,0.6835201010283752\n",
      "FAR,0.41165783728492694\n",
      "F1,0.6323698814911569\n",
      "ACC,0.917697396239155\n"
     ]
    }
   ],
   "source": [
    "CSI = TP/(TP+FP+FN)\n",
    "TPR = TP/(TP+FN)\n",
    "FAR = FP/(TP+FP)\n",
    "F1 = (2*TP)/((2*TP)+FP+FN)\n",
    "ACC = (TP+TN)/(TP+FP+TN+FN)\n",
    "form = 'CSI,{0}\\nTPR,{1}\\nFAR,{2}\\nF1,{3}\\nACC,{4}'.format(CSI,TPR,FAR,F1,ACC)\n",
    "print(form)"
   ]
  },
  {
   "cell_type": "markdown",
   "metadata": {},
   "source": [
    "### Saving the results to a CSV file"
   ]
  },
  {
   "cell_type": "code",
   "execution_count": 23,
   "metadata": {},
   "outputs": [],
   "source": [
    "with open(r'C:\\ModelEvalWorkshop\\\\' + RSFIM.name+'_'+modelFIM.name + '.csv', 'w') as f:\n",
    "    f.write(form)"
   ]
  },
  {
   "cell_type": "code",
   "execution_count": null,
   "metadata": {},
   "outputs": [],
   "source": []
  }
 ],
 "metadata": {
  "kernelspec": {
   "display_name": "ArcGISPro",
   "language": "Python",
   "name": "python3"
  },
  "language_info": {
   "file_extension": ".py",
   "name": "python",
   "version": "3"
  }
 },
 "nbformat": 4,
 "nbformat_minor": 2
}
