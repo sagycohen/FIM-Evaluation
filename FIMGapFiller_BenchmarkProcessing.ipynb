{
 "cells": [
  {
   "cell_type": "markdown",
   "metadata": {},
   "source": [
    "# Pre-processing Flood Inundation Map for Model Evaluation\n",
    "### Created by: Sagy Cohen, University of Alabama; sagy.cohen@ua.edu"
   ]
  },
  {
   "cell_type": "markdown",
   "metadata": {},
   "source": [
    "## Setting input data"
   ]
  },
  {
   "cell_type": "code",
   "execution_count": 6,
   "metadata": {},
   "outputs": [],
   "source": [
    "import numpy as np\n",
    "arcpy.env.addOutputsToMap = False\n",
    "arcpy.env.overwriteOutput = True\n",
    "\n",
    "#Workspace (preferably a Geodatabase what include all the input layers)\n",
    "ws = arcpy.env.workspace = r'C:\\ModelEvalWorkshop\\ModelEvalWorkshop_Workspace_1.gdb' \n",
    "\n",
    "#DEM layer:\n",
    "DEM = arcpy.Raster(\"DEM10m\")\n",
    "\n",
    "#Benchmark (remote sensing) FIM layer:\n",
    "RSFIM = arcpy.Raster(\"RSFlood1014_orig\")\n",
    "\n",
    "#Permanent Water Bodies Layer:\n",
    "PWB = arcpy.Raster(\"JRC_PWB\")\n",
    "\n",
    "#Final output name: \n",
    "finalOutputFIM = 'FinalFIM_RSFlood1014'"
   ]
  },
  {
   "cell_type": "markdown",
   "metadata": {},
   "source": [
    "# Pre-processing\n",
    "### Remove small clusters"
   ]
  },
  {
   "cell_type": "code",
   "execution_count": 7,
   "metadata": {},
   "outputs": [],
   "source": [
    "# Convert benchmark FIM raster to [1, NoData]\n",
    "tempFIM = arcpy.sa.Con(RSFIM==1,1,'#')\n",
    "#initFIM.save('FIM_wNoData')"
   ]
  },
  {
   "cell_type": "code",
   "execution_count": 8,
   "metadata": {
    "scrolled": true
   },
   "outputs": [],
   "source": [
    "#Calculate clusters\n",
    "RegionGroupRas = arcpy.sa.RegionGroup(in_raster=tempFIM, number_neighbors=\"EIGHT\",zone_connectivity=\"WITHIN\",add_link=\"ADD_LINK\",excluded_value=None)\n",
    "#RegionGroupRas.save('RegionGroup')"
   ]
  },
  {
   "cell_type": "code",
   "execution_count": 9,
   "metadata": {},
   "outputs": [],
   "source": [
    "#Remove clusteres with a user-defined threshold\n",
    "ClusterSizeTH = 200\n",
    "classesStr = \"1 {0} NODATA;{0} {1} 1\".format(ClusterSizeTH,4057206)\n",
    "tempFIM2 = arcpy.sa.Reclassify(in_raster=RegionGroupRas, reclass_field=\"Count\", remap=classesStr, missing_values=\"DATA\")\n",
    "tempFIM2.save('FIM_'+str(ClusterSizeTH)+'removed')\n",
    "\n",
    "initFIM = arcpy.sa.Con(tempFIM2==1,1,'#')\n",
    "initFIM.save('FIM_wNoData')"
   ]
  },
  {
   "cell_type": "markdown",
   "metadata": {},
   "source": [
    "## GapFill - a procedure to fill gaps in remote sensing FIM basaed on topography "
   ]
  },
  {
   "cell_type": "markdown",
   "metadata": {},
   "source": [
    "Step 1: Convert Remote Sensing to FIM [1, NoData] - NOTE: skip if ran in the pre-processing steps!!\n",
    "\n",
    "Step 2: Resample DEM FIM resolution, extent and alignment; NOTE: there are two versions/choices of this step!!\n",
    "\n",
    "Step 3: Get elevation to FIM from a DEM\n",
    "\n",
    "Step 4: Run loop which\n",
    "\n",
    "    Step 3.1: FocalStatistics [out_raster = arcpy.Raster(\"FocalSt_Elev_Iteration4\")]\n",
    "    Step 3.2: Filter high-and-dry pixels get new elevation [(arcpy.sa.Con(((out_raster - DEM) >=0),1,'#')) * (DEM + (out_raster-DEM))]\n",
    "\n",
    "Step 5: Convert and save final output to FIM"
   ]
  },
  {
   "cell_type": "markdown",
   "metadata": {},
   "source": [
    "### Step 1: Convert Remote Sensing to FIM [1, NoData] --- Skip if ran at the Pre-processing!!!"
   ]
  },
  {
   "cell_type": "markdown",
   "metadata": {},
   "source": [
    "initFIM = arcpy.sa.Con(RSFIM==1,1,'#')\n",
    "initFIM.save('FIM_wNoData')"
   ]
  },
  {
   "cell_type": "markdown",
   "metadata": {},
   "source": [
    "#To Skip Step 1\n",
    "initFIM = arcpy.Raster('FIM_wNoData')"
   ]
  },
  {
   "cell_type": "markdown",
   "metadata": {},
   "source": [
    "### Step 2 v.1: Resample DEM FIM resolution, extent and alignment"
   ]
  },
  {
   "cell_type": "markdown",
   "metadata": {},
   "source": [
    "cellSize='{} {}'.format(initFIM.meanCellHeight,initFIM.meanCellWidth)\n",
    "with arcpy.EnvManager(outputCoordinateSystem=initFIM.spatialReference,snapRaster=initFIM):\n",
    "    DEMr = arcpy.management.Resample(\n",
    "        in_raster=DEM,\n",
    "        out_raster='DEM_Resample',\n",
    "        cell_size=cellSize,\n",
    "        resampling_type=\"BILINEAR\")"
   ]
  },
  {
   "cell_type": "markdown",
   "metadata": {},
   "source": [
    "#To Skip step2\n",
    "DEMr = arcpy.Raster('DEM_Resample')"
   ]
  },
  {
   "cell_type": "markdown",
   "metadata": {},
   "source": [
    "### Step 2 v.2 - Resample FIM to DEM resolution and alignment"
   ]
  },
  {
   "cell_type": "code",
   "execution_count": 10,
   "metadata": {},
   "outputs": [],
   "source": [
    "cellSize='{} {}'.format(DEM.meanCellHeight,DEM.meanCellWidth)\n",
    "with arcpy.EnvManager(outputCoordinateSystem=DEM.spatialReference,snapRaster=DEM):\n",
    "    initFIM = arcpy.management.Resample(\n",
    "        in_raster=initFIM,\n",
    "        out_raster='FIM_Resample',\n",
    "        cell_size=cellSize,\n",
    "        resampling_type=\"BILINEAR\")\n",
    "DEMr = DEM"
   ]
  },
  {
   "cell_type": "markdown",
   "metadata": {},
   "source": [
    "### Step 3: Get elevation to FIM from a DEM"
   ]
  },
  {
   "cell_type": "code",
   "execution_count": 11,
   "metadata": {},
   "outputs": [
    {
     "name": "stdout",
     "output_type": "stream",
     "text": [
      "0.9407374702558001\n"
     ]
    }
   ],
   "source": [
    "FIMelev = initFIM * DEMr\n",
    "#FIMelev.save('FIMelev0')\n",
    "initMean = arcpy.sa.IsNull(FIMelev).mean\n",
    "print (initMean)\n",
    "oldMean = initMean"
   ]
  },
  {
   "cell_type": "markdown",
   "metadata": {},
   "source": [
    "### Step 4: Run loop which\n",
    "    Step 4.1: FocalStatistics [out_raster = arcpy.Raster(\"FocalSt_Elev_Iteration4\")]\n",
    "    Step 4.2: Filter high-and-dry pixels get new elevation [(arcpy.sa.Con(((out_raster - DEM) >=0),1,'#')) * (DEM + (out_raster-DEM))]"
   ]
  },
  {
   "cell_type": "code",
   "execution_count": 12,
   "metadata": {},
   "outputs": [
    {
     "name": "stdout",
     "output_type": "stream",
     "text": [
      "1\n",
      "0.9407374702558001 0.9323269879040254\n",
      "100.0\n",
      "2\n",
      "0.9323269879040254 0.9258822563454293\n",
      "43.38363350053683\n",
      "3\n",
      "0.9258822563454293 0.9204178440412453\n",
      "26.892287517916582\n",
      "4\n",
      "0.9204178440412453 0.915475659329764\n",
      "19.563857579139594\n",
      "5\n",
      "0.915475659329764 0.910899080408487\n",
      "15.337888353547207\n",
      "6\n",
      "0.910899080408487 0.9066543352171327\n",
      "12.45409257845159\n",
      "7\n",
      "0.9066543352171327 0.9026325166071782\n",
      "10.554582081481907\n",
      "8\n",
      "0.9026325166071782 0.8988241745984533\n",
      "9.086238504982324\n",
      "9\n",
      "0.8988241745984533 0.8952485189867142\n",
      "7.860492519573898\n",
      "10\n",
      "0.8952485189867142 0.8919201120364862\n",
      "6.818080845905181\n",
      "11\n",
      "0.8919201120364862 0.8887926333531628\n",
      "6.020769088534051\n",
      "12\n",
      "0.8887926333531628 0.8858651534304978\n",
      "5.335076213357855\n",
      "13\n",
      "0.8858651534304978 0.8830888731905612\n",
      "4.815867829003313\n",
      "14\n",
      "0.8830888731905612 0.8804521738052746\n",
      "4.373702279875844\n",
      "15\n",
      "0.8804521738052746 0.8779707019631172\n",
      "3.953480336260505\n",
      "16\n",
      "0.8779707019631172 0.8756210650902241\n",
      "3.608363924449682\n",
      "17\n",
      "0.8756210650902241 0.873379560777315\n",
      "3.3277521975722846\n",
      "18\n",
      "0.873379560777315 0.8712621455482847\n",
      "3.047722681318045\n",
      "19\n",
      "0.8712621455482847 0.8692353571782669\n",
      "2.8345852769694395\n",
      "20\n",
      "0.8692353571782669 0.8672889710985524\n",
      "2.6500011600611044\n",
      "21\n",
      "0.8672889710985524 0.8654341413840968\n",
      "2.463144381858258\n",
      "22\n",
      "0.8654341413840968 0.8636694737755304\n",
      "2.289754099184597\n",
      "23\n",
      "0.8636694737755304 0.8619711109458655\n",
      "2.156203288490237\n",
      "24\n",
      "0.8619711109458655 0.860352685653381\n",
      "2.0133478001953433\n",
      "25\n",
      "0.860352685653381 0.8588073815189371\n",
      "1.886125303009207\n",
      "out of the loop\n",
      "Wall time: 4min 16s\n"
     ]
    }
   ],
   "source": [
    "%%time\n",
    "pdif = 100.0\n",
    "iteration = 1\n",
    "while pdif > 2:  \n",
    "    print(iteration)\n",
    "    out_raster = arcpy.sa.FocalStatistics(FIMelev, neighborhood=\"Rectangle 3 3 CELL\", statistics_type=\"MAXIMUM\", ignore_nodata=\"DATA\", percentile_value=90)\n",
    "    FIMelev = (arcpy.sa.Con(((out_raster -  DEMr) >= 0),1,'#')) * (DEMr + (out_raster-DEMr))\n",
    "    isNull = arcpy.sa.IsNull(FIMelev)\n",
    "    newMean = isNull.mean\n",
    "    print (oldMean, newMean)\n",
    "    FIMelev.save('FIMelev_3x3_GT0_10m'+str(iteration))\n",
    "    pdif = 100*((initMean-newMean)-(initMean-oldMean))/(initMean-newMean)\n",
    "    oldMean = newMean\n",
    "    print(pdif)\n",
    "    iteration+=1\n",
    "print('out of the loop')"
   ]
  },
  {
   "cell_type": "markdown",
   "metadata": {},
   "source": [
    "### Step 5: Convert and save final output to FIM"
   ]
  },
  {
   "cell_type": "code",
   "execution_count": 13,
   "metadata": {},
   "outputs": [],
   "source": [
    "finalRas = arcpy.sa.Con(FIMelev, in_true_raster_or_constant=1, in_false_raster_or_constant=None, where_clause=\"VALUE > 0\")\n",
    "finalRas.save(finalOutputFIM)"
   ]
  },
  {
   "cell_type": "markdown",
   "metadata": {},
   "source": [
    "# Post processing"
   ]
  },
  {
   "cell_type": "markdown",
   "metadata": {},
   "source": [
    "### Classify Original RS map to [0, 1] from [1, NoData] "
   ]
  },
  {
   "cell_type": "code",
   "execution_count": 14,
   "metadata": {},
   "outputs": [],
   "source": [
    "RSreclass01 = arcpy.sa.Reclassify(initFIM,reclass_field=\"Value\",remap=\"1 1;NODATA 0\",missing_values=\"DATA\")"
   ]
  },
  {
   "cell_type": "markdown",
   "metadata": {},
   "source": [
    "### Calculate Evaluation layer: Reclass GapFill(ed) pixels to NoData"
   ]
  },
  {
   "cell_type": "code",
   "execution_count": 15,
   "metadata": {},
   "outputs": [],
   "source": [
    "#finalRas = arcpy.Raster('FinalFIM_RGFlood1014_1pc_3x3_90pc_10m') ##bypass processing\n",
    "finalEvalFIM1 = RSreclass01 + finalRas\n",
    "finalEvalFIM2 = arcpy.sa.Reclassify(in_raster=finalEvalFIM1, reclass_field=\"Value\", remap=\"1 NODATA;2 2;NODATA 0\", missing_values=\"DATA\")\n",
    "finalEvalFIM3 = finalEvalFIM2 * 1\n",
    "finalEvalFIM3.save(finalOutputFIM+'EvalLayer')"
   ]
  },
  {
   "cell_type": "markdown",
   "metadata": {},
   "source": [
    "### Removing Permanent Water\n",
    "#### Reclassify Permanent Water layer to [0,1]"
   ]
  },
  {
   "cell_type": "code",
   "execution_count": 16,
   "metadata": {},
   "outputs": [],
   "source": [
    "ReclassPWB = arcpy.sa.Reclassify(PWB,reclass_field=\"Value\",remap=\"1 1;NODATA 0\",missing_values=\"DATA\")\n",
    "ReclassPWB.save('ReclassPWB')"
   ]
  },
  {
   "cell_type": "markdown",
   "metadata": {},
   "source": [
    "#### Removing (make NoData) Permanent Water from the benchmark FIM"
   ]
  },
  {
   "cell_type": "code",
   "execution_count": 17,
   "metadata": {},
   "outputs": [],
   "source": [
    "finalEvalFIM1 = ReclassPWB + finalEvalFIM3\n",
    "finalEvalFIM2 = arcpy.sa.Reclassify(in_raster=finalEvalFIM1, reclass_field=\"Value\", remap=\"0 0;1 NODATA;2 2;3 NODATA\", missing_values=\"DATA\")\n",
    "finalEvalFIM3 = finalEvalFIM2 * 1\n",
    "finalEvalFIM3.save(finalOutputFIM+'EvalLayer_PWBremoved')"
   ]
  },
  {
   "cell_type": "code",
   "execution_count": null,
   "metadata": {},
   "outputs": [],
   "source": []
  }
 ],
 "metadata": {
  "kernelspec": {
   "display_name": "ArcGISPro",
   "language": "Python",
   "name": "python3"
  },
  "language_info": {
   "file_extension": ".py",
   "name": "python",
   "version": "3"
  }
 },
 "nbformat": 4,
 "nbformat_minor": 2
}
